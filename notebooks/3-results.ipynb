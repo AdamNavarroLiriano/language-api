{
 "cells": [
  {
   "cell_type": "code",
   "execution_count": 1,
   "id": "0757a70f-64f0-4f4e-a538-be55ce3e1015",
   "metadata": {},
   "outputs": [
    {
     "name": "stdout",
     "output_type": "stream",
     "text": [
      "/Users/adamnavarroliriano/Documents/Personal/Code/language/language-api\n"
     ]
    },
    {
     "name": "stderr",
     "output_type": "stream",
     "text": [
      "/Users/adamnavarroliriano/miniconda3/envs/language-api/lib/python3.12/site-packages/IPython/core/magics/osm.py:417: UserWarning: This is now an optional IPython functionality, setting dhist requires you to install the `pickleshare` library.\n",
      "  self.shell.db['dhist'] = compress_dhist(dhist)[-100:]\n"
     ]
    }
   ],
   "source": [
    "cd .."
   ]
  },
  {
   "cell_type": "code",
   "execution_count": 2,
   "id": "18a1703f-2fe5-46c5-85c3-d394e4f99829",
   "metadata": {},
   "outputs": [],
   "source": [
    "import pandas as pd\n",
    "import numpy as np \n",
    "from sacrebleu import sentence_bleu"
   ]
  },
  {
   "cell_type": "markdown",
   "id": "c6c4d89d-c526-4c93-921e-84e66b0098a7",
   "metadata": {},
   "source": [
    "## Result"
   ]
  },
  {
   "cell_type": "markdown",
   "id": "bbd6ce5c-1a7f-472a-997b-0441582a8a53",
   "metadata": {},
   "source": [
    "### Pretrained"
   ]
  },
  {
   "cell_type": "code",
   "execution_count": 25,
   "id": "f103222c-27ff-4da8-b1a5-d130d4793380",
   "metadata": {},
   "outputs": [],
   "source": [
    "test_scores_en_da_sv_pretrained = pd.read_csv('data/kaggle/test_scores_en_da_sv_pretrained.csv')\n",
    "test_scores_en_da_sv_pretrained['bleu'] = test_scores_en_da_sv_pretrained.apply(lambda x: sentence_bleu(x['translation'], [x['tgt_text']]).score, axis=1)\n",
    "test_scores_en_da_sv_pretrained['bleu_lowercase'] = test_scores_en_da_sv_pretrained.apply(lambda x: sentence_bleu(x['translation'].lower(), \n",
    "                                                                                                                  [x['tgt_text'].lower()]).score,\n",
    "                                                                                          axis=1)"
   ]
  },
  {
   "cell_type": "code",
   "execution_count": 26,
   "id": "74416091-c6ca-4810-a68b-516f7aa6652e",
   "metadata": {},
   "outputs": [
    {
     "data": {
      "text/html": [
       "<div>\n",
       "<style scoped>\n",
       "    .dataframe tbody tr th:only-of-type {\n",
       "        vertical-align: middle;\n",
       "    }\n",
       "\n",
       "    .dataframe tbody tr th {\n",
       "        vertical-align: top;\n",
       "    }\n",
       "\n",
       "    .dataframe thead th {\n",
       "        text-align: right;\n",
       "    }\n",
       "</style>\n",
       "<table border=\"1\" class=\"dataframe\">\n",
       "  <thead>\n",
       "    <tr style=\"text-align: right;\">\n",
       "      <th></th>\n",
       "      <th></th>\n",
       "      <th>bleu</th>\n",
       "      <th>bleu_lowercase</th>\n",
       "    </tr>\n",
       "    <tr>\n",
       "      <th>src_lang</th>\n",
       "      <th>tgt_lang</th>\n",
       "      <th></th>\n",
       "      <th></th>\n",
       "    </tr>\n",
       "  </thead>\n",
       "  <tbody>\n",
       "    <tr>\n",
       "      <th>da</th>\n",
       "      <th>en</th>\n",
       "      <td>40.243396</td>\n",
       "      <td>46.540917</td>\n",
       "    </tr>\n",
       "    <tr>\n",
       "      <th>en</th>\n",
       "      <th>da</th>\n",
       "      <td>40.851250</td>\n",
       "      <td>43.092761</td>\n",
       "    </tr>\n",
       "    <tr>\n",
       "      <th>sv</th>\n",
       "      <th>en</th>\n",
       "      <td>34.931070</td>\n",
       "      <td>37.576263</td>\n",
       "    </tr>\n",
       "  </tbody>\n",
       "</table>\n",
       "</div>"
      ],
      "text/plain": [
       "                        bleu  bleu_lowercase\n",
       "src_lang tgt_lang                           \n",
       "da       en        40.243396       46.540917\n",
       "en       da        40.851250       43.092761\n",
       "sv       en        34.931070       37.576263"
      ]
     },
     "execution_count": 26,
     "metadata": {},
     "output_type": "execute_result"
    }
   ],
   "source": [
    "test_scores_en_da_sv_pretrained.groupby(['src_lang', 'tgt_lang'])[['bleu', 'bleu_lowercase']].mean()"
   ]
  },
  {
   "cell_type": "markdown",
   "id": "4b85fe85-2860-4db0-b157-c438f470ee46",
   "metadata": {},
   "source": [
    "### Finetuned"
   ]
  },
  {
   "cell_type": "code",
   "execution_count": 8,
   "id": "ae7f9a6c-a749-4d0e-ace7-10ed229af6da",
   "metadata": {},
   "outputs": [],
   "source": [
    "en_sv_finetuned_results = pd.read_csv('data/kaggle/en_sv_finetuned_results.csv')"
   ]
  },
  {
   "cell_type": "code",
   "execution_count": 17,
   "id": "567aed01-4675-482a-957c-9559f4895592",
   "metadata": {},
   "outputs": [],
   "source": [
    "en_sv_finetuned_results['bleu'] = en_sv_finetuned_results.apply(lambda x: sentence_bleu(x['prediction'], [x['target_text']]).score, axis=1)\n",
    "en_sv_finetuned_results['pretrained_bleu'] = en_sv_finetuned_results.apply(lambda x: sentence_bleu(x['pretrained_predictions'], [x['target_text']]).score, axis=1)\n",
    "en_sv_finetuned_results['bleu_lowercase'] =  en_sv_finetuned_results.apply(lambda x: sentence_bleu(x['prediction'].lower(), [x['target_text'].lower()]).score, axis=1)\n",
    "en_sv_finetuned_results['pretrained_bleu_lowercase'] = en_sv_finetuned_results.apply(lambda x: sentence_bleu(x['pretrained_predictions'].lower(), \n",
    "                                                                                                             [x['target_text'].lower()]).score, axis=1)\n"
   ]
  },
  {
   "cell_type": "code",
   "execution_count": 20,
   "id": "0a3ff8e3-0a3d-499c-bbf1-7880c473e6cd",
   "metadata": {},
   "outputs": [
    {
     "data": {
      "text/html": [
       "<div>\n",
       "<style scoped>\n",
       "    .dataframe tbody tr th:only-of-type {\n",
       "        vertical-align: middle;\n",
       "    }\n",
       "\n",
       "    .dataframe tbody tr th {\n",
       "        vertical-align: top;\n",
       "    }\n",
       "\n",
       "    .dataframe thead th {\n",
       "        text-align: right;\n",
       "    }\n",
       "</style>\n",
       "<table border=\"1\" class=\"dataframe\">\n",
       "  <thead>\n",
       "    <tr style=\"text-align: right;\">\n",
       "      <th></th>\n",
       "      <th></th>\n",
       "      <th>bleu</th>\n",
       "      <th>bleu_lowercase</th>\n",
       "      <th>pretrained_bleu</th>\n",
       "      <th>pretrained_bleu_lowercase</th>\n",
       "    </tr>\n",
       "    <tr>\n",
       "      <th>src_lang</th>\n",
       "      <th>tgt_lang</th>\n",
       "      <th></th>\n",
       "      <th></th>\n",
       "      <th></th>\n",
       "      <th></th>\n",
       "    </tr>\n",
       "  </thead>\n",
       "  <tbody>\n",
       "    <tr>\n",
       "      <th>en</th>\n",
       "      <th>sv</th>\n",
       "      <td>33.240115</td>\n",
       "      <td>34.477832</td>\n",
       "      <td>32.395573</td>\n",
       "      <td>33.609523</td>\n",
       "    </tr>\n",
       "  </tbody>\n",
       "</table>\n",
       "</div>"
      ],
      "text/plain": [
       "                        bleu  bleu_lowercase  pretrained_bleu  \\\n",
       "src_lang tgt_lang                                               \n",
       "en       sv        33.240115       34.477832        32.395573   \n",
       "\n",
       "                   pretrained_bleu_lowercase  \n",
       "src_lang tgt_lang                             \n",
       "en       sv                        33.609523  "
      ]
     },
     "execution_count": 20,
     "metadata": {},
     "output_type": "execute_result"
    }
   ],
   "source": [
    "en_sv_finetuned_results.groupby(['src_lang', 'tgt_lang'])[['bleu', 'bleu_lowercase', 'pretrained_bleu', 'pretrained_bleu_lowercase']].mean()"
   ]
  },
  {
   "cell_type": "code",
   "execution_count": null,
   "id": "47c95617-20e1-4179-9ac8-a1a28a801ec0",
   "metadata": {},
   "outputs": [],
   "source": []
  }
 ],
 "metadata": {
  "kernelspec": {
   "display_name": "Python 3 (ipykernel)",
   "language": "python",
   "name": "python3"
  },
  "language_info": {
   "codemirror_mode": {
    "name": "ipython",
    "version": 3
   },
   "file_extension": ".py",
   "mimetype": "text/x-python",
   "name": "python",
   "nbconvert_exporter": "python",
   "pygments_lexer": "ipython3",
   "version": "3.12.3"
  }
 },
 "nbformat": 4,
 "nbformat_minor": 5
}
